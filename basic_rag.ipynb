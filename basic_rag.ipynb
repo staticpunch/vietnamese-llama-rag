{
 "cells": [
  {
   "cell_type": "markdown",
   "id": "9e512831-726e-401b-959f-088b8775fa4b",
   "metadata": {},
   "source": [
    "## Retrieval"
   ]
  },
  {
   "cell_type": "markdown",
   "id": "8ebc1a3b-8cb3-48f5-9b50-47e45a202dfb",
   "metadata": {},
   "source": [
    "First we have to load the corpus."
   ]
  },
  {
   "cell_type": "code",
   "execution_count": 1,
   "id": "6b89a9bf-4afa-4e83-b18a-b9eb123e901e",
   "metadata": {},
   "outputs": [],
   "source": [
    "from datasets import load_dataset\n",
    "meta_corpus = load_dataset(\n",
    "    \"json\",\n",
    "    data_files=\"data/corpus_chunks.jsonl\",\n",
    "    split=\"train\"\n",
    ").to_list()"
   ]
  },
  {
   "cell_type": "code",
   "execution_count": 2,
   "id": "7327f646-c72f-44ec-9ffa-5fb8a0c69c4f",
   "metadata": {},
   "outputs": [
    {
     "data": {
      "application/vnd.jupyter.widget-view+json": {
       "model_id": "b5886d8273864a82867d573384e69a17",
       "version_major": 2,
       "version_minor": 0
      },
      "text/plain": [
       "  0%|          | 0/48532 [00:00<?, ?it/s]"
      ]
     },
     "metadata": {},
     "output_type": "display_data"
    }
   ],
   "source": [
    "import copy\n",
    "import unicodedata as ud\n",
    "import re\n",
    "from tqdm import tqdm\n",
    "from rank_bm25 import BM25Okapi\n",
    "from tqdm.notebook import tqdm\n",
    "import string\n",
    "\n",
    "def split_text(text):\n",
    "    text = text.translate(str.maketrans('', '', string.punctuation))\n",
    "    words = text.lower().split()\n",
    "    words = [word for word in words if len(word.strip()) > 0]\n",
    "    return words\n",
    "\n",
    "## initiate BM25 retriever\n",
    "tokenized_corpus = [split_text(doc[\"passage\"]) for doc in tqdm(meta_corpus)]\n",
    "bm25 = BM25Okapi(tokenized_corpus)"
   ]
  },
  {
   "cell_type": "code",
   "execution_count": 3,
   "id": "d28df1f6-4b1f-42c5-87be-2645cbbc64db",
   "metadata": {},
   "outputs": [],
   "source": [
    "def retrieve(question, topk=50):\n",
    "    \"\"\"\n",
    "    Get most relevant chunks to the question using simple BM25 score.\n",
    "    \"\"\"\n",
    "    tokenized_query = split_text(question)\n",
    "    bm25_scores = bm25.get_scores(tokenized_query)\n",
    "    corpus_size = len(meta_corpus)\n",
    "    for i in range(corpus_size):\n",
    "        meta_corpus[i][\"bm25_score\"] = bm25_scores[i]\n",
    "    bm25_passages = sorted(meta_corpus, key=lambda x: x[\"bm25_score\"], reverse=True)\n",
    "    return bm25_passages[:topk]"
   ]
  },
  {
   "cell_type": "code",
   "execution_count": 4,
   "id": "f8aa9c2e-e551-461d-b6d5-a6e6d260abea",
   "metadata": {},
   "outputs": [
    {
     "data": {
      "text/plain": [
       "[{'title': 'Đội Thiếu niên Tiền phong Hồ Chí Minh',\n",
       "  'passage': 'Title: Đội Thiếu niên Tiền phong Hồ Chí Minh\\n\\nThiếu niên Tiền phong Hồ Chí Minh. Tuyên ngôn hoạt động. Đội Thiếu niên Tiền phong Hồ Chí Minh là trường học giáo dục thiếu nhi Việt Nam trong và ngoài nhà trường, là đội dự bị của Đoàn Thanh niên Cộng sản Hồ Chí Minh; lực lượng nòng cốt trong các phong trào thiếu nhi. Đội viên. Đội viên Đội TNTP Hồ Chí Minh là thiếu niên Việt Nam từ 9 đến hết 15 tuổi thực hiện tốt 5 điều Bác Hồ dạy, phấn đấu học tập, rèn luyện và tu dưỡng để trở thành đoàn viên Đoàn TNCS Hồ Chí Minh. Lời hứa của đội viên. 1. Thực hiện tốt 5 điều Bác Hồ dạy thiếu niên, nhi đồng. 2. Tuân theo Điều lệ Đội Thiếu niên Tiền phong Hồ Chí Minh. 3. Giữ gìn danh dự Đội Thiếu niên Tiền phong Hồ Chí Minh. Quyền của đội',\n",
       "  'id': 47894,\n",
       "  'len': 159,\n",
       "  'bm25_score': 19.956651855490467},\n",
       " {'title': 'Lực lượng Thanh niên xung phong Thành phố Hồ Chí Minh',\n",
       "  'passage': 'Title: Lực lượng Thanh niên xung phong Thành phố Hồ Chí Minh\\n\\nLực lượng Thanh niên xung phong (TNXP) TP. Hồ Chí Minh là lực lượng tập hợp thanh niên hoạt động \" Xung kích \" trực thuộc Ủy ban nhân dân Thành phố Hồ Chí Minh. Hình thành. Sau sự kiện 30 tháng 4 năm 1975, thực hiện chủ trương của thành phố, Thành đoàn TNCS Hồ Chí Minh TP. Hồ Chí Minh đã lập các Đội Thanh niên Xung phong làm nhiệm vụ ở những huyện ngoại thành thành phố. Các Đội Thanh niên xung kích, Thanh niên tình nguyện là tiền thân, là cơ sở để hình thành 2 Tổng đội TNXP (Thành đoàn TP. Hồ Chí Minh và TNXP thuộc Ban Khai hoang xây dựng kinh tế mới Trung ương). Ngày 28.3.1976, tổ chức TNXP TP. Hồ Chí Minh chính thức được thành lập với 2 Tổng đội (Tổng đội TNXP Thành đoàn và Tổng đội TNXP xây',\n",
       "  'id': 23263,\n",
       "  'len': 162,\n",
       "  'bm25_score': 19.349029951607033},\n",
       " {'title': 'Nguyễn Thành Phong',\n",
       "  'passage': 'Title: Nguyễn Thành Phong\\n\\ngiảng viên và giữ cương vị Bí thư Đoàn trường Đại học Kinh tế Thành phố Hồ Chí Minh và là Phó chủ tịch Hội Liên hiệp Thanh niên Việt Nam Thành phố Hồ Chí Minh, Ủy viên Ban Chấp hành Trung ương Đoàn TNCS Hồ Chí Minh. Ngày 25 tháng 10 năm 1995, ông được bầu làm Chủ tịch đầu tiên của Hội Sinh viên Việt Nam Thành phố Hồ Chí Minh. Tháng 10 năm 1996, tại Đại hội đại biểu Đoàn TNCS Hồ Chí Minh Thành phố Hồ Chí Minh lần thứ 6 (1996 - 2001) ông được bầu làm Phó bí thư Thành Đoàn Thành phố Hồ Chí Minh. Năm 1997, Nguyễn Thành Phong được bầu làm Đại biểu Quốc hội khóa X. Tháng 9 năm 1999, ông được bầu giữ chức Bí thư Thành Đoàn Thành phố Hồ Chí Minh thay người tiền nhiệm là ông',\n",
       "  'id': 26458,\n",
       "  'len': 154,\n",
       "  'bm25_score': 19.273977838372186}]"
      ]
     },
     "execution_count": 4,
     "metadata": {},
     "output_type": "execute_result"
    }
   ],
   "source": [
    "question = \"Hồ Chí Minh là ai?\"\n",
    "top_passages = retrieve(question, topk=3)\n",
    "top_passages"
   ]
  },
  {
   "cell_type": "markdown",
   "id": "aca48e3d-2649-4746-b252-355c2c24a050",
   "metadata": {},
   "source": [
    "The result is not accurate, showing the limit of BM25. Don't worry we will improve this in the `better_rag.ipynb`."
   ]
  },
  {
   "cell_type": "markdown",
   "id": "33856dda-cb73-48d0-8cfc-e911e6125920",
   "metadata": {},
   "source": [
    "## Generation"
   ]
  },
  {
   "cell_type": "code",
   "execution_count": 5,
   "id": "8bb01efc-9bb9-4159-bcad-6e9ad5dfd139",
   "metadata": {},
   "outputs": [],
   "source": [
    "prompt_template = (\n",
    "    \"### System:\\n\"\n",
    "    \"Below is an instruction that describes a task, paired with an input that provides further context. \"\n",
    "    \"Write a response that appropriately completes the request.\\n\\n\\n\\n\"\n",
    "    \"### Instruction:\\n{instruction}\\n\\n\"\n",
    "    \"### Input:\\n{input}\\n\\n\"\n",
    "    \"### Response:\\n{output}\"\n",
    ")\n",
    "\n",
    "def get_prompt(question, contexts):\n",
    "    context = \"\\n\\n\".join([f\"Context [{i+1}]: {x['passage']}\" for i, x in enumerate(contexts)])\n",
    "    instruction = 'You are an AI assistant. Provide a detailed answer so user don’t need to search outside to understand the answer.'\n",
    "    input = f\"Dựa vào một số ngữ cảnh được cho dưới đây, trả lời câu hỏi ở cuối.\\n\\n{context}\\n\\nQuestion: {question}\\nHãy trả lời chi tiết và đầy đủ.\"\n",
    "    prompt = prompt_template.format(\n",
    "        instruction=instruction,\n",
    "        input=input,\n",
    "        output=''\n",
    "    )\n",
    "    return prompt"
   ]
  },
  {
   "cell_type": "code",
   "execution_count": 6,
   "id": "2312120f-9ff7-4894-b669-0de02c8f120a",
   "metadata": {},
   "outputs": [
    {
     "name": "stdout",
     "output_type": "stream",
     "text": [
      "### System:\n",
      "Below is an instruction that describes a task, paired with an input that provides further context. Write a response that appropriately completes the request.\n",
      "\n",
      "\n",
      "\n",
      "### Instruction:\n",
      "You are an AI assistant. Provide a detailed answer so user don’t need to search outside to understand the answer.\n",
      "\n",
      "### Input:\n",
      "Dựa vào một số ngữ cảnh được cho dưới đây, trả lời câu hỏi ở cuối.\n",
      "\n",
      "Context [1]: Title: Đội Thiếu niên Tiền phong Hồ Chí Minh\n",
      "\n",
      "Thiếu niên Tiền phong Hồ Chí Minh. Tuyên ngôn hoạt động. Đội Thiếu niên Tiền phong Hồ Chí Minh là trường học giáo dục thiếu nhi Việt Nam trong và ngoài nhà trường, là đội dự bị của Đoàn Thanh niên Cộng sản Hồ Chí Minh; lực lượng nòng cốt trong các phong trào thiếu nhi. Đội viên. Đội viên Đội TNTP Hồ Chí Minh là thiếu niên Việt Nam từ 9 đến hết 15 tuổi thực hiện tốt 5 điều Bác Hồ dạy, phấn đấu học tập, rèn luyện và tu dưỡng để trở thành đoàn viên Đoàn TNCS Hồ Chí Minh. Lời hứa của đội viên. 1. Thực hiện tốt 5 điều Bác Hồ dạy thiếu niên, nhi đồng. 2. Tuân theo Điều lệ Đội Thiếu niên Tiền phong Hồ Chí Minh. 3. Giữ gìn danh dự Đội Thiếu niên Tiền phong Hồ Chí Minh. Quyền của đội\n",
      "\n",
      "Context [2]: Title: Lực lượng Thanh niên xung phong Thành phố Hồ Chí Minh\n",
      "\n",
      "Lực lượng Thanh niên xung phong (TNXP) TP. Hồ Chí Minh là lực lượng tập hợp thanh niên hoạt động \" Xung kích \" trực thuộc Ủy ban nhân dân Thành phố Hồ Chí Minh. Hình thành. Sau sự kiện 30 tháng 4 năm 1975, thực hiện chủ trương của thành phố, Thành đoàn TNCS Hồ Chí Minh TP. Hồ Chí Minh đã lập các Đội Thanh niên Xung phong làm nhiệm vụ ở những huyện ngoại thành thành phố. Các Đội Thanh niên xung kích, Thanh niên tình nguyện là tiền thân, là cơ sở để hình thành 2 Tổng đội TNXP (Thành đoàn TP. Hồ Chí Minh và TNXP thuộc Ban Khai hoang xây dựng kinh tế mới Trung ương). Ngày 28.3.1976, tổ chức TNXP TP. Hồ Chí Minh chính thức được thành lập với 2 Tổng đội (Tổng đội TNXP Thành đoàn và Tổng đội TNXP xây\n",
      "\n",
      "Context [3]: Title: Nguyễn Thành Phong\n",
      "\n",
      "giảng viên và giữ cương vị Bí thư Đoàn trường Đại học Kinh tế Thành phố Hồ Chí Minh và là Phó chủ tịch Hội Liên hiệp Thanh niên Việt Nam Thành phố Hồ Chí Minh, Ủy viên Ban Chấp hành Trung ương Đoàn TNCS Hồ Chí Minh. Ngày 25 tháng 10 năm 1995, ông được bầu làm Chủ tịch đầu tiên của Hội Sinh viên Việt Nam Thành phố Hồ Chí Minh. Tháng 10 năm 1996, tại Đại hội đại biểu Đoàn TNCS Hồ Chí Minh Thành phố Hồ Chí Minh lần thứ 6 (1996 - 2001) ông được bầu làm Phó bí thư Thành Đoàn Thành phố Hồ Chí Minh. Năm 1997, Nguyễn Thành Phong được bầu làm Đại biểu Quốc hội khóa X. Tháng 9 năm 1999, ông được bầu giữ chức Bí thư Thành Đoàn Thành phố Hồ Chí Minh thay người tiền nhiệm là ông\n",
      "\n",
      "Question: Hồ Chí Minh là ai?\n",
      "Hãy trả lời chi tiết và đầy đủ.\n",
      "\n",
      "### Response:\n",
      "\n"
     ]
    }
   ],
   "source": [
    "## Let's see how a prompt fed to the LLM looks like\n",
    "contexts = retrieve(question, topk=3)\n",
    "prompt = get_prompt(question, contexts)\n",
    "print(prompt)"
   ]
  },
  {
   "cell_type": "code",
   "execution_count": 7,
   "id": "02b03b35-b397-486b-a1fe-c20cd3704310",
   "metadata": {},
   "outputs": [
    {
     "data": {
      "application/vnd.jupyter.widget-view+json": {
       "model_id": "739a8238fc444c38979750b1c6c820bb",
       "version_major": 2,
       "version_minor": 0
      },
      "text/plain": [
       "Loading checkpoint shards:   0%|          | 0/2 [00:00<?, ?it/s]"
      ]
     },
     "metadata": {},
     "output_type": "display_data"
    }
   ],
   "source": [
    "from transformers import GenerationConfig, TextStreamer\n",
    "from transformers import LlamaForCausalLM, LlamaTokenizer, LlamaConfig\n",
    "import torch\n",
    "\n",
    "torch_dtype = torch.bfloat16\n",
    "model_id = \"minhbui/viettel_v3.2\"\n",
    "device = \"cuda\"\n",
    "\n",
    "tokenizer = LlamaTokenizer.from_pretrained(model_id)\n",
    "model = LlamaForCausalLM.from_pretrained(\n",
    "    model_id,\n",
    "    config=LlamaConfig.from_pretrained(model_id),\n",
    "    torch_dtype=torch_dtype\n",
    ")\n",
    "\n",
    "model = model.eval().to(device)"
   ]
  },
  {
   "cell_type": "code",
   "execution_count": 8,
   "id": "54a449cf-e725-40b5-bd5b-302f9bd21877",
   "metadata": {},
   "outputs": [],
   "source": [
    "def generate(prompt, max_new_tokens=1024):\n",
    "    \"\"\"Text completion with a given prompt. In other words, give answer to your question.\n",
    "    Args:\n",
    "        prompt (str): Basically <instruction> + <question> + <retrieved_context>\n",
    "        generation_config (not existed yet): For now, please manually tweak hyperparameters\n",
    "        for generation in the `generation_config` below. Uncomment necessary arguments as you wish.\n",
    "    Returns:\n",
    "        list: an answer to the question within the prompt.\n",
    "    \"\"\"\n",
    "    input_ids = tokenizer(prompt, return_tensors=\"pt\")[\"input_ids\"].to(model.device)\n",
    "    model.eval()\n",
    "    with torch.no_grad():\n",
    "        generation_config = GenerationConfig(\n",
    "            repetition_penalty=1.13,\n",
    "            max_new_tokens=max_new_tokens,\n",
    "            # temperature=0.2,\n",
    "            # top_p=0.95,\n",
    "            # top_k=20,\n",
    "            # bos_token_id=tokenizer.bos_token_id,\n",
    "            # eos_token_id=tokenizer.eos_token_id,\n",
    "            # eos_token_id=0, # for open-end generation.\n",
    "            pad_token_id=tokenizer.pad_token_id,\n",
    "            do_sample=False,\n",
    "            use_cache=True,\n",
    "            return_dict_in_generate=True,\n",
    "            output_attentions=False,\n",
    "            output_hidden_states=False,\n",
    "            output_scores=False,\n",
    "        )\n",
    "        streamer = TextStreamer(tokenizer, skip_prompt=True)\n",
    "        generated = model.generate(\n",
    "            inputs=input_ids,\n",
    "            generation_config=generation_config,\n",
    "            streamer=streamer,\n",
    "        )\n",
    "\n",
    "    gen_tokens = generated[\"sequences\"].cpu()[:, len(input_ids[0]):]\n",
    "    output = tokenizer.batch_decode(gen_tokens)[0]\n",
    "    output = output.split(tokenizer.eos_token)[0]\n",
    "    return output.strip()"
   ]
  },
  {
   "cell_type": "code",
   "execution_count": 9,
   "id": "0bee6136-1d99-4286-8843-c543d04beb8c",
   "metadata": {},
   "outputs": [
    {
     "name": "stdout",
     "output_type": "stream",
     "text": [
      "Ho Chi Minh là một nhà lãnh đạo cách mạng người Việt Nam, người đã dẫn dắt quốc gia này giành được độc lập từ Pháp vào năm 1945. Ông sinh ra với tên Nguyễn Ái Quốc và sau đó đổi thành Hồ Chí Minh. Ông là người sáng lập Đảng Cộng sản Việt Nam và là người đứng đầu nhà nước Việt Nam Dân chủ Cộng hòa từ năm 1945 đến năm 1969. Ông được coi là một trong những nhân vật quan trọng nhất trong lịch sử Việt Nam và được tôn vinh như một anh hùng dân tộc.</s>\n"
     ]
    }
   ],
   "source": [
    "output = generate(prompt)"
   ]
  },
  {
   "cell_type": "markdown",
   "id": "44107f0e-2e5a-4a19-8d70-ed7b623aeedc",
   "metadata": {},
   "source": [
    "## End-to-End RAG"
   ]
  },
  {
   "cell_type": "markdown",
   "id": "fad842db-82cc-47d0-a72b-9eae386fb738",
   "metadata": {},
   "source": [
    "It's almost done. Now let's try a simple RAG pipeline with our Wikipedia corpus."
   ]
  },
  {
   "cell_type": "code",
   "execution_count": 10,
   "id": "f21d6fda-3941-4a5d-bb9f-525185b6ffd2",
   "metadata": {},
   "outputs": [],
   "source": [
    "def rag(question, topk=3):\n",
    "    top_passages = retrieve(question, topk=topk)\n",
    "    retrieved_context = \"\\n\\n\".join([f\"Context [{i+1}]: {x['passage']}\" \n",
    "                    for i, x in enumerate(top_passages)])\n",
    "    prompt = get_prompt(question, contexts)\n",
    "    output = generate(prompt)\n",
    "    result = {\n",
    "        \"retrieved_context\": retrieved_context,\n",
    "        \"generated_answer\": output\n",
    "    }\n",
    "    return result"
   ]
  },
  {
   "cell_type": "code",
   "execution_count": 11,
   "id": "d8b9db9b-7f3e-403b-95c9-cdf29270eed2",
   "metadata": {},
   "outputs": [
    {
     "name": "stdout",
     "output_type": "stream",
     "text": [
      "Câu hỏi: Thành phố nào là thủ đô của Việt Nam?\n",
      "Thành phố Hồ Chí Minh là thủ đô của Việt Nam. Nó là một trong hai thành phố lớn nhất ở Việt Nam, cùng với Hà Nội. Thành phố có lịch sử lâu đời và là trung tâm văn hóa, kinh tế và chính trị của đất nước.</s>\n",
      "------------------------------------------------------------------------------------------\n",
      "Câu hỏi: Samsung do ai sở hữu?\n",
      "Samsung Electronics Co., Ltd. là công ty con của Samsung Group, một tập đoàn quốc tế có trụ sở tại Hàn Quốc. Samsung Group được thành lập bởi Lee Byung-Chull vào năm 1938 và sau đó được chia thành hai công ty con riêng biệt: Samsung Electronics và Samsung Life Insurance. Samsung Electronics là công ty con lớn nhất của Samsung Group và là một trong những công ty lớn nhất thế giới, được điều hành bởi CEO Oh-Hyun Kwon.</s>\n",
      "------------------------------------------------------------------------------------------\n",
      "Câu hỏi: Việt Nam có những ca sĩ KPOP nào?\n",
      "Việt Nam có một số ca sĩ K-pop, bao gồm Nguyễn Thành Phong, người được biết đến với vai trò là giảng viên và Bí thư Đoàn trường Đại học Kinh tế Thành phố Hồ Chí Minh, cũng như là Phó chủ tịch Hội Liên hiệp Thanh niên Việt Nam Thành phố Hồ Chí Minh và Ủy viên Ban Chấp hành Trung ương Đoàn TNCS Hồ Chí Minh[3]. Anh ấy cũng là một ca sĩ solo và là thành viên của nhóm nhạc nam Hàn Quốc EXO.</s>\n",
      "------------------------------------------------------------------------------------------\n"
     ]
    }
   ],
   "source": [
    "questions = [\n",
    "    \"Thành phố nào là thủ đô của Việt Nam?\",\n",
    "    \"Samsung do ai sở hữu?\",\n",
    "    \"Việt Nam có những ca sĩ KPOP nào?\",\n",
    "]\n",
    "for question in questions:\n",
    "    print(f\"Câu hỏi: {question}\")\n",
    "    output = rag(question)\n",
    "    print(\"---\" * 30)"
   ]
  }
 ],
 "metadata": {
  "kernelspec": {
   "display_name": "Python 3 (ipykernel)",
   "language": "python",
   "name": "python3"
  },
  "language_info": {
   "codemirror_mode": {
    "name": "ipython",
    "version": 3
   },
   "file_extension": ".py",
   "mimetype": "text/x-python",
   "name": "python",
   "nbconvert_exporter": "python",
   "pygments_lexer": "ipython3",
   "version": "3.10.12"
  }
 },
 "nbformat": 4,
 "nbformat_minor": 5
}
